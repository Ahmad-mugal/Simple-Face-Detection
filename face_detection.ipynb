{
 "cells": [
  {
   "cell_type": "code",
   "execution_count": 1,
   "metadata": {},
   "outputs": [
    {
     "ename": "error",
     "evalue": "OpenCV(4.7.0) :-1: error: (-5:Bad argument) in function 'circle'\n> Overload resolution failed:\n>  - Argument 'radius' is required to be an integer\n>  - Argument 'radius' is required to be an integer\n",
     "output_type": "error",
     "traceback": [
      "\u001b[1;31m---------------------------------------------------------------------------\u001b[0m",
      "\u001b[1;31merror\u001b[0m                                     Traceback (most recent call last)",
      "Cell \u001b[1;32mIn[1], line 20\u001b[0m\n\u001b[0;32m     12\u001b[0m faces \u001b[39m=\u001b[39m clf\u001b[39m.\u001b[39mdetectMultiScale(\n\u001b[0;32m     13\u001b[0m     gray,\n\u001b[0;32m     14\u001b[0m     scaleFactor\u001b[39m=\u001b[39m\u001b[39m1.1\u001b[39m,\n\u001b[1;32m   (...)\u001b[0m\n\u001b[0;32m     17\u001b[0m     flags\u001b[39m=\u001b[39mcv2\u001b[39m.\u001b[39mCASCADE_SCALE_IMAGE\n\u001b[0;32m     18\u001b[0m )\n\u001b[0;32m     19\u001b[0m \u001b[39mfor\u001b[39;00m(x, y, width, height) \u001b[39min\u001b[39;00m faces:\n\u001b[1;32m---> 20\u001b[0m     cv2\u001b[39m.\u001b[39;49mcircle(frame, (x, y), (x\u001b[39m+\u001b[39;49mwidth, y\u001b[39m+\u001b[39;49mheight), (\u001b[39m255\u001b[39;49m, \u001b[39m255\u001b[39;49m, \u001b[39m0\u001b[39;49m), \u001b[39m2\u001b[39;49m)\n\u001b[0;32m     22\u001b[0m cv2\u001b[39m.\u001b[39mimshow(\u001b[39m\"\u001b[39m\u001b[39mFaces\u001b[39m\u001b[39m\"\u001b[39m, frame)\n\u001b[0;32m     23\u001b[0m \u001b[39mif\u001b[39;00m cv2\u001b[39m.\u001b[39mwaitKey(\u001b[39m1\u001b[39m) \u001b[39m==\u001b[39m \u001b[39mord\u001b[39m(\u001b[39m\"\u001b[39m\u001b[39mq\u001b[39m\u001b[39m\"\u001b[39m):\n",
      "\u001b[1;31merror\u001b[0m: OpenCV(4.7.0) :-1: error: (-5:Bad argument) in function 'circle'\n> Overload resolution failed:\n>  - Argument 'radius' is required to be an integer\n>  - Argument 'radius' is required to be an integer\n"
     ]
    }
   ],
   "source": [
    "import pathlib\n",
    "import cv2\n",
    "\n",
    "cascade_path = pathlib.Path(cv2.__file__).parent.absolute() /\"data/haarcascade_frontalface_default.xml\"\n",
    "clf = cv2.CascadeClassifier(str(cascade_path))\n",
    "\n",
    "camera = cv2.VideoCapture(0)\n",
    "\n",
    "while True:\n",
    "    _, frame = camera.read()\n",
    "    gray = cv2.cvtColor(frame, cv2.COLOR_BGR2GRAY)\n",
    "    faces = clf.detectMultiScale(\n",
    "        gray,\n",
    "        scaleFactor=1.1,\n",
    "        minNeighbors=5,\n",
    "        minSize=(30, 30),\n",
    "        flags=cv2.CASCADE_SCALE_IMAGE\n",
    "    )\n",
    "    for(x, y, width, height) in faces:\n",
    "        cv2.rectangle(frame, (x, y), (x+width, y+height), (255, 255, 0), 2)\n",
    "\n",
    "    cv2.imshow(\"Faces\", frame)\n",
    "    if cv2.waitKey(1) == ord(\"q\"):\n",
    "        break\n",
    "\n",
    "camera.release()\n",
    "cv2.destroyAllWindowa()"
   ]
  },
  {
   "cell_type": "code",
   "execution_count": 11,
   "metadata": {},
   "outputs": [],
   "source": [
    "import pathlib\n",
    "import cv2\n",
    "\n",
    "cascade_path = pathlib.Path(cv2.__file__).parent.absolute() / \"data/haarcascade_frontalface_default.xml\"\n",
    "clf = cv2.CascadeClassifier(str(cascade_path))\n",
    "\n",
    "camera = cv2.VideoCapture(0)\n",
    "\n",
    "while True:\n",
    "    _, frame = camera.read()\n",
    "    gray = cv2.cvtColor(frame, cv2.COLOR_BGR2GRAY)\n",
    "    faces = clf.detectMultiScale(\n",
    "        gray,\n",
    "        scaleFactor=1.1,\n",
    "        minNeighbors=5,\n",
    "        minSize=(30, 30),\n",
    "        flags=cv2.CASCADE_SCALE_IMAGE\n",
    "    )\n",
    "    for (x, y, width, height) in faces:\n",
    "        center_x = x + width // 2\n",
    "        center_y = y + height // 2\n",
    "        radius = max(width // 2, height // 2)\n",
    "        cv2.circle(frame, (center_x, center_y), radius, (255, 255, 0), 3)\n",
    "\n",
    "    cv2.imshow(\"Faces\", frame)\n",
    "    if cv2.waitKey(1) == ord(\"q\"):\n",
    "        break\n",
    "\n",
    "camera.release()\n",
    "cv2.destroyAllWindows()"
   ]
  }
 ],
 "metadata": {
  "kernelspec": {
   "display_name": "Python 3",
   "language": "python",
   "name": "python3"
  },
  "language_info": {
   "codemirror_mode": {
    "name": "ipython",
    "version": 3
   },
   "file_extension": ".py",
   "mimetype": "text/x-python",
   "name": "python",
   "nbconvert_exporter": "python",
   "pygments_lexer": "ipython3",
   "version": "3.11.3"
  },
  "orig_nbformat": 4
 },
 "nbformat": 4,
 "nbformat_minor": 2
}
